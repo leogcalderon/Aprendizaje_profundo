{
 "cells": [
  {
   "cell_type": "markdown",
   "metadata": {},
   "source": [
    "# 1. Linear Regression Implementation from Scratch"
   ]
  },
  {
   "cell_type": "code",
   "execution_count": 1,
   "metadata": {},
   "outputs": [],
   "source": [
    "import torch\n",
    "import random"
   ]
  },
  {
   "cell_type": "markdown",
   "metadata": {},
   "source": [
    "## 1.1 Generating the dataset\n",
    "\n",
    "The true parameters generating our dataset will be $w=[2,−3.4]^{T}$ and $b=4.2$, and our synthetic labels will be assigned according to the following linear model with the noise term ϵ."
   ]
  },
  {
   "cell_type": "code",
   "execution_count": 2,
   "metadata": {},
   "outputs": [
    {
     "name": "stdout",
     "output_type": "stream",
     "text": [
      "Example\n",
      "Features: tensor([0.9791, 1.5140])\n",
      "Label: tensor([1.0220])\n"
     ]
    }
   ],
   "source": [
    "def synthetic_data(w, b, num_examples):\n",
    "    # Random X\n",
    "    X = torch.normal(0, 1, (num_examples, len(w)))\n",
    "    # Calculate Y\n",
    "    y = torch.matmul(X, w) + b\n",
    "    # Add noise\n",
    "    y += torch.normal(0, 0.01, y.shape)\n",
    "    return X, y.reshape((-1, 1))\n",
    "\n",
    "true_w = torch.tensor([2, -3.4])\n",
    "true_b = 4.2\n",
    "features, labels = synthetic_data(true_w, true_b, 1000)\n",
    "\n",
    "print(f'Example\\nFeatures: {features[0]}\\nLabel: {labels[0]}')"
   ]
  },
  {
   "cell_type": "markdown",
   "metadata": {},
   "source": [
    "## 1.2 Reading the dataset"
   ]
  },
  {
   "cell_type": "code",
   "execution_count": 3,
   "metadata": {},
   "outputs": [],
   "source": [
    "def data_iter(batch_size, features, labels):\n",
    "    n = len(features)\n",
    "    indices = list(range(n))\n",
    "    random.shuffle(indices)\n",
    "    for i in range(0, n, batch_size):\n",
    "        batch_indices = torch.tensor(\n",
    "            indices[i: min(i + batch_size, n)])\n",
    "        yield features[batch_indices], labels[batch_indices]"
   ]
  },
  {
   "cell_type": "code",
   "execution_count": 4,
   "metadata": {},
   "outputs": [
    {
     "name": "stdout",
     "output_type": "stream",
     "text": [
      "Features:\n",
      " tensor([[ 0.3268, -0.7618],\n",
      "        [ 0.5584, -1.3536],\n",
      "        [-0.0169,  2.3528],\n",
      "        [-0.6741,  0.6355],\n",
      "        [ 1.2003, -0.5752],\n",
      "        [ 0.7428, -1.6536],\n",
      "        [-1.8204, -0.5661],\n",
      "        [-0.6830, -1.2578],\n",
      "        [-1.1388, -0.3953],\n",
      "        [-0.1335,  0.3235]]) \n",
      "Labels\n",
      " tensor([[ 7.4550],\n",
      "        [ 9.9077],\n",
      "        [-3.8294],\n",
      "        [ 0.6859],\n",
      "        [ 8.5578],\n",
      "        [11.3089],\n",
      "        [ 2.4886],\n",
      "        [ 7.1105],\n",
      "        [ 3.2582],\n",
      "        [ 2.8335]])\n"
     ]
    }
   ],
   "source": [
    "batch_size = 10\n",
    "\n",
    "for X, y in data_iter(batch_size, features, labels):\n",
    "    print('Features:\\n', X, '\\nLabels\\n', y)\n",
    "    break"
   ]
  },
  {
   "cell_type": "markdown",
   "metadata": {},
   "source": [
    "## 1.3 Initializing model parameters"
   ]
  },
  {
   "cell_type": "code",
   "execution_count": 5,
   "metadata": {},
   "outputs": [],
   "source": [
    "w = torch.normal(0, 0.01, size=(2,1), requires_grad=True)\n",
    "b = torch.zeros(1, requires_grad=True)"
   ]
  },
  {
   "cell_type": "markdown",
   "metadata": {},
   "source": [
    "## 1.4 Defining the model"
   ]
  },
  {
   "cell_type": "code",
   "execution_count": 6,
   "metadata": {},
   "outputs": [],
   "source": [
    "def linreg(X, w, b):\n",
    "    return torch.matmul(X, w) + b"
   ]
  },
  {
   "cell_type": "markdown",
   "metadata": {},
   "source": [
    "## 1.5 Defining the Loss Function"
   ]
  },
  {
   "cell_type": "code",
   "execution_count": 7,
   "metadata": {},
   "outputs": [],
   "source": [
    "def squared_loss(y_hat, y):\n",
    "    return (y_hat - y.reshape(y_hat.shape))**2 / 2"
   ]
  },
  {
   "cell_type": "markdown",
   "metadata": {},
   "source": [
    "## 1.6 Defining the Optimization Algorithm \n",
    "\n",
    "Because our loss is calculated as a sum over the minibatch of examples, we normalize our step size by the batch size (batch_size), so that the magnitude of a typical step size does not depend heavily on our choice of the batch size.\n",
    "\n",
    "    torch.no_grad(): context manager that disabled gradient calculation (temporarily sets all of the requires_grad flags to False)\n",
    "    \n",
    "    torch.Tensor.grad: This attribute is None by default and becomes a Tensor the first time a call to backward() computes gradients for self. The attribute will then contain the gradients computed and future calls to backward() will accumulate (add) gradients into it."
   ]
  },
  {
   "cell_type": "code",
   "execution_count": 8,
   "metadata": {},
   "outputs": [],
   "source": [
    "def sgd(params, lr, batch_size):\n",
    "    with torch.no_grad():\n",
    "        for param in params:\n",
    "            param -= lr * param.grad / batch_size\n",
    "            param.grad.zero_()"
   ]
  },
  {
   "cell_type": "markdown",
   "metadata": {},
   "source": [
    "## 1.7 Training"
   ]
  },
  {
   "cell_type": "code",
   "execution_count": 9,
   "metadata": {},
   "outputs": [
    {
     "name": "stdout",
     "output_type": "stream",
     "text": [
      "epoch 1, loss 0.031972\n",
      "epoch 2, loss 0.000108\n",
      "epoch 3, loss 0.000048\n"
     ]
    }
   ],
   "source": [
    "lr = 0.03\n",
    "epochs = 3\n",
    "\n",
    "for epoch in range(epochs):\n",
    "    for X, y in data_iter(batch_size, features, labels):\n",
    "        l = squared_loss(linreg(X, w, b), y)\n",
    "        l.sum().backward()\n",
    "        sgd([w, b], lr, batch_size)\n",
    "    with torch.no_grad():\n",
    "        train_l = squared_loss(linreg(features, w, b), labels)\n",
    "        print(f'epoch {epoch + 1}, loss {float(train_l.mean()):f}')"
   ]
  },
  {
   "cell_type": "markdown",
   "metadata": {},
   "source": [
    "# 2. Concise implementation of Linear regression"
   ]
  },
  {
   "cell_type": "code",
   "execution_count": 10,
   "metadata": {},
   "outputs": [],
   "source": [
    "import numpy as np\n",
    "from torch.utils import data\n",
    "from torch import nn"
   ]
  },
  {
   "cell_type": "markdown",
   "metadata": {},
   "source": [
    "## 2.1 Reading the dataset\n",
    "\n",
    "* **torch.utils.data.DataLoader:** Data loader. Combines a dataset and a sampler, and provides an iterable over the given dataset.\n",
    "\n",
    "* **torch.utils.data.Dataset:** An abstract class representing a Dataset."
   ]
  },
  {
   "cell_type": "code",
   "execution_count": 11,
   "metadata": {},
   "outputs": [],
   "source": [
    "def load_array(data_arrays, batch_size, is_train=True):\n",
    "    dataset = data.TensorDataset(*data_arrays)\n",
    "    return data.DataLoader(dataset, batch_size, shuffle=is_train)\n",
    "\n",
    "batch_size = 10\n",
    "data_iter = load_array((features, labels), batch_size)"
   ]
  },
  {
   "cell_type": "code",
   "execution_count": 12,
   "metadata": {},
   "outputs": [
    {
     "data": {
      "text/plain": [
       "[tensor([[-0.6234, -0.0224],\n",
       "         [ 0.4901,  0.4181],\n",
       "         [ 1.0842, -0.2557],\n",
       "         [ 0.1818,  0.1437],\n",
       "         [-0.6741,  0.6355],\n",
       "         [-2.8698,  1.3331],\n",
       "         [-0.0230, -0.8326],\n",
       "         [-1.3872, -0.9467],\n",
       "         [-0.0036, -0.6795],\n",
       "         [ 1.8438, -0.7314]]), tensor([[ 3.0278],\n",
       "         [ 3.7481],\n",
       "         [ 7.2583],\n",
       "         [ 4.0649],\n",
       "         [ 0.6859],\n",
       "         [-6.0841],\n",
       "         [ 6.9711],\n",
       "         [ 4.6306],\n",
       "         [ 6.4995],\n",
       "         [10.3686]])]"
      ]
     },
     "execution_count": 12,
     "metadata": {},
     "output_type": "execute_result"
    }
   ],
   "source": [
    "next(iter(data_iter))"
   ]
  },
  {
   "cell_type": "markdown",
   "metadata": {},
   "source": [
    "## 2.2 Defining the Model\n",
    "\n",
    "* **torch.nn.Sequential(*args):** A sequential container. Modules will be added to it in the order they are passed in the constructor. Alternatively, an ordered dict of modules can also be passed in.\n",
    "\n",
    "* **torch.nn.Linear(in_features, out_features, bias=True):** Applies a linear transformation to the incoming data: $y=xW+b$"
   ]
  },
  {
   "cell_type": "code",
   "execution_count": 23,
   "metadata": {},
   "outputs": [],
   "source": [
    "lr = nn.Sequential(nn.Linear(2, 1))"
   ]
  },
  {
   "cell_type": "markdown",
   "metadata": {},
   "source": [
    "## 2.3 Initializing Model Parameters"
   ]
  },
  {
   "cell_type": "code",
   "execution_count": 24,
   "metadata": {},
   "outputs": [
    {
     "data": {
      "text/plain": [
       "tensor([[ 0.0233, -0.0059]])"
      ]
     },
     "execution_count": 24,
     "metadata": {},
     "output_type": "execute_result"
    }
   ],
   "source": [
    "lr[0].weight.data.normal_(0, 0.01)"
   ]
  },
  {
   "cell_type": "code",
   "execution_count": 25,
   "metadata": {},
   "outputs": [
    {
     "data": {
      "text/plain": [
       "tensor([0.])"
      ]
     },
     "execution_count": 25,
     "metadata": {},
     "output_type": "execute_result"
    }
   ],
   "source": [
    "lr[0].bias.data.fill_(0)"
   ]
  },
  {
   "cell_type": "markdown",
   "metadata": {},
   "source": [
    "## 2.4 Defining the Loss Function"
   ]
  },
  {
   "cell_type": "code",
   "execution_count": 26,
   "metadata": {},
   "outputs": [],
   "source": [
    "loss = nn.MSELoss()"
   ]
  },
  {
   "cell_type": "markdown",
   "metadata": {},
   "source": [
    "## 2.5 Defining the Optimization Algorithm"
   ]
  },
  {
   "cell_type": "code",
   "execution_count": 27,
   "metadata": {},
   "outputs": [],
   "source": [
    "trainer = torch.optim.SGD(lr.parameters(), lr=0.03)"
   ]
  },
  {
   "cell_type": "markdown",
   "metadata": {},
   "source": [
    "## 2.6 Training\n",
    "\n",
    "* **step(closure):** Performs a single optimization step (parameter update).\n",
    "\n",
    "* **zero_grad():** Sets the gradients of all optimized torch.Tensor s to zero."
   ]
  },
  {
   "cell_type": "code",
   "execution_count": 28,
   "metadata": {},
   "outputs": [
    {
     "name": "stdout",
     "output_type": "stream",
     "text": [
      "epoch 1, loss 0.000201\n",
      "epoch 2, loss 0.000097\n",
      "epoch 3, loss 0.000097\n"
     ]
    }
   ],
   "source": [
    "epochs = 3\n",
    "for epoch in range(epochs):\n",
    "    for X, y in data_iter:\n",
    "        l = loss(lr(X) ,y)\n",
    "        trainer.zero_grad()\n",
    "        l.backward()\n",
    "        trainer.step()\n",
    "    l = loss(lr(features), labels)\n",
    "    print(f'epoch {epoch + 1}, loss {l:f}')"
   ]
  },
  {
   "cell_type": "code",
   "execution_count": null,
   "metadata": {},
   "outputs": [],
   "source": []
  }
 ],
 "metadata": {
  "kernelspec": {
   "display_name": "Python 3",
   "language": "python",
   "name": "python3"
  },
  "language_info": {
   "codemirror_mode": {
    "name": "ipython",
    "version": 3
   },
   "file_extension": ".py",
   "mimetype": "text/x-python",
   "name": "python",
   "nbconvert_exporter": "python",
   "pygments_lexer": "ipython3",
   "version": "3.8.3"
  }
 },
 "nbformat": 4,
 "nbformat_minor": 2
}
