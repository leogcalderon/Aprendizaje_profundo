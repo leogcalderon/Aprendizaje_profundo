{
 "cells": [
  {
   "cell_type": "code",
   "execution_count": 1,
   "metadata": {},
   "outputs": [],
   "source": [
    "import os\n",
    "import torch\n",
    "from torch import nn\n",
    "import torchvision\n",
    "import matplotlib.pyplot as plt\n",
    "from d2l import torch as d2l\n",
    "\n",
    "import warnings\n",
    "warnings.filterwarnings('ignore')"
   ]
  },
  {
   "cell_type": "code",
   "execution_count": 2,
   "metadata": {},
   "outputs": [],
   "source": [
    "d2l.DATA_HUB['pokemon'] = (\n",
    "    d2l.DATA_URL + 'pokemon.zip',\n",
    "    'c065c0e2593b8b161a2d7873e42418bf6a21106c'\n",
    ")\n",
    "\n",
    "data_dir = d2l.download_extract('pokemon')\n",
    "pokemon = torchvision.datasets.ImageFolder(data_dir)"
   ]
  },
  {
   "cell_type": "code",
   "execution_count": 3,
   "metadata": {},
   "outputs": [],
   "source": [
    "batch_size = 256\n",
    "\n",
    "transformer = torchvision.transforms.Compose([\n",
    "    torchvision.transforms.Resize((64, 64)),\n",
    "    torchvision.transforms.ToTensor(),\n",
    "    torchvision.transforms.Normalize(0.5, 0.5)\n",
    "])\n",
    "\n",
    "pokemon.transform = transformer\n",
    "\n",
    "data_iter = torch.utils.data.DataLoader(\n",
    "    pokemon, \n",
    "    batch_size=batch_size, \n",
    "    shuffle=True,\n",
    "    num_workers=4\n",
    ")"
   ]
  },
  {
   "cell_type": "code",
   "execution_count": 5,
   "metadata": {},
   "outputs": [
    {
     "data": {
      "image/png": "[encoded data removed]",
      "text/plain": [
       "<Figure size 432x288 with 1 Axes>"
      ]
     },
     "metadata": {
      "needs_background": "light"
     },
     "output_type": "display_data"
    }
   ],
   "source": [
    "example = next(iter(data_iter))[0][0]\n",
    "\n",
    "plt.imshow(example.permute(1, 2, 0) / 2 + 0.5)\n",
    "plt.show()"
   ]
  },
  {
   "cell_type": "markdown",
   "metadata": {},
   "source": [
    "# Generator\n",
    "\n",
    "The generator consists of four basic blocks that increase input’s both width and height from 1 to 32."
   ]
  },
  {
   "cell_type": "code",
   "execution_count": 7,
   "metadata": {},
   "outputs": [],
   "source": [
    "class G_block(nn.Module):\n",
    "    def __init__(\n",
    "        self, \n",
    "        out_channels, \n",
    "        in_channels=3, \n",
    "        kernel_size=4, \n",
    "        strides=2,\n",
    "        padding=1, \n",
    "        **kwargs):\n",
    "\n",
    "        super(G_block, self).__init__(**kwargs)\n",
    "        \n",
    "        self.conv2d_trans = nn.ConvTranspose2d(\n",
    "            in_channels, \n",
    "            out_channels,\n",
    "            kernel_size, \n",
    "            strides, \n",
    "            padding,\n",
    "            bias=False\n",
    "        )\n",
    "        \n",
    "        self.batch_norm = nn.BatchNorm2d(out_channels)\n",
    "        self.activation = nn.ReLU()\n",
    "\n",
    "    def forward(self, X):\n",
    "        return self.activation(self.batch_norm(self.conv2d_trans(X)))\n"
   ]
  },
  {
   "cell_type": "code",
   "execution_count": 9,
   "metadata": {},
   "outputs": [],
   "source": [
    "n_G = 64\n",
    "\n",
    "net_G = nn.Sequential(\n",
    "    G_block(in_channels=100, out_channels=n_G * 8, strides=1,padding=0),  # Output: (64 * 8, 4, 4)\n",
    "    G_block(in_channels=n_G * 8,out_channels=n_G * 4),  # Output: (64 * 4, 8, 8)\n",
    "    G_block(in_channels=n_G * 4,out_channels=n_G * 2),  # Output: (64 * 2, 16, 16)\n",
    "    G_block(in_channels=n_G * 2, out_channels=n_G),  # Output: (64, 32, 32)\n",
    "    nn.ConvTranspose2d(in_channels=n_G, out_channels=3,kernel_size=4, stride=2, padding=1, bias=False),\n",
    "    nn.Tanh()\n",
    ")"
   ]
  },
  {
   "cell_type": "code",
   "execution_count": 10,
   "metadata": {},
   "outputs": [
    {
     "data": {
      "text/plain": [
       "torch.Size([1, 3, 64, 64])"
      ]
     },
     "execution_count": 10,
     "metadata": {},
     "output_type": "execute_result"
    }
   ],
   "source": [
    "x = torch.zeros((1, 100, 1, 1))\n",
    "net_G(x).shape"
   ]
  },
  {
   "cell_type": "markdown",
   "metadata": {},
   "source": [
    "# Discriminator\n",
    "\n",
    "Is a normal convolutional network network except that it uses a leaky ReLU as its activation function.\n",
    "\n",
    "A basic block with default settings will halve the width and height of the inputs"
   ]
  },
  {
   "cell_type": "code",
   "execution_count": 11,
   "metadata": {},
   "outputs": [],
   "source": [
    "class D_block(nn.Module):\n",
    "    def __init__(\n",
    "        self, \n",
    "        out_channels, \n",
    "        in_channels=3, \n",
    "        kernel_size=4, \n",
    "        strides=2,\n",
    "        padding=1, \n",
    "        alpha=0.2, \n",
    "        **kwargs):\n",
    "        \n",
    "        super(D_block, self).__init__(**kwargs)\n",
    "        \n",
    "        self.conv2d = nn.Conv2d(\n",
    "            in_channels, \n",
    "            out_channels, \n",
    "            kernel_size,\n",
    "            strides, padding,\n",
    "            bias=False\n",
    "        )\n",
    "        \n",
    "        self.batch_norm = nn.BatchNorm2d(out_channels)\n",
    "        self.activation = nn.LeakyReLU(alpha, inplace=True)\n",
    "\n",
    "    def forward(self, X):\n",
    "        return self.activation(self.batch_norm(self.conv2d(X)))"
   ]
  },
  {
   "cell_type": "code",
   "execution_count": 12,
   "metadata": {},
   "outputs": [],
   "source": [
    "n_D = 64\n",
    "net_D = nn.Sequential(\n",
    "    D_block(n_D),  # Output: (64, 32, 32)\n",
    "    D_block(in_channels=n_D, out_channels=n_D * 2),  # Output: (64 * 2, 16, 16)\n",
    "    D_block(in_channels=n_D * 2, out_channels=n_D * 4),  # Output: (64 * 4, 8, 8)\n",
    "    D_block(in_channels=n_D * 4, out_channels=n_D * 8),  # Output: (64 * 8, 4, 4)\n",
    "    nn.Conv2d(in_channels=n_D * 8, out_channels=1, kernel_size=4, bias=False)\n",
    ")"
   ]
  },
  {
   "cell_type": "code",
   "execution_count": 13,
   "metadata": {},
   "outputs": [
    {
     "data": {
      "text/plain": [
       "torch.Size([1, 1, 1, 1])"
      ]
     },
     "execution_count": 13,
     "metadata": {},
     "output_type": "execute_result"
    }
   ],
   "source": [
    "x = torch.zeros((1, 3, 64, 64))\n",
    "net_D(x).shape"
   ]
  },
  {
   "cell_type": "code",
   "execution_count": 18,
   "metadata": {},
   "outputs": [],
   "source": [
    "from tqdm import tqdm\n",
    "\n",
    "def train(\n",
    "    net_D, \n",
    "    net_G, \n",
    "    data_iter, \n",
    "    num_epochs, \n",
    "    lr, \n",
    "    latent_dim,\n",
    "    device=d2l.try_gpu()):\n",
    "    \n",
    "    loss = nn.BCEWithLogitsLoss(reduction='sum')\n",
    "    \n",
    "    for w in net_D.parameters():\n",
    "        nn.init.normal_(w, 0, 0.02)\n",
    "    \n",
    "    for w in net_G.parameters():\n",
    "        nn.init.normal_(w, 0, 0.02)\n",
    "    \n",
    "    net_D, net_G = net_D.to(device), net_G.to(device)\n",
    "    \n",
    "    trainer_hp = {'lr': lr, 'betas': [0.5, 0.999]}\n",
    "    \n",
    "    trainer_D = torch.optim.Adam(net_D.parameters(), **trainer_hp)\n",
    "    trainer_G = torch.optim.Adam(net_G.parameters(), **trainer_hp)\n",
    "\n",
    "    for epoch in tqdm(range(1, num_epochs + 1)):\n",
    "\n",
    "        for X, _ in tqdm(data_iter):\n",
    "            batch_size = X.shape[0]\n",
    "            Z = torch.normal(0, 1, size=(batch_size, latent_dim, 1, 1))\n",
    "            X, Z = X.to(device), Z.to(device)\n",
    "            d2l.update_D(X, Z, net_D, net_G, loss, trainer_D)\n",
    "            d2l.update_G(Z, net_D, net_G, loss, trainer_G)"
   ]
  }
 ],
 "metadata": {
  "kernelspec": {
   "display_name": "Python 3",
   "language": "python",
   "name": "python3"
  },
  "language_info": {
   "codemirror_mode": {
    "name": "ipython",
    "version": 3
   },
   "file_extension": ".py",
   "mimetype": "text/x-python",
   "name": "python",
   "nbconvert_exporter": "python",
   "pygments_lexer": "ipython3",
   "version": "3.8.3"
  }
 },
 "nbformat": 4,
 "nbformat_minor": 4
}
