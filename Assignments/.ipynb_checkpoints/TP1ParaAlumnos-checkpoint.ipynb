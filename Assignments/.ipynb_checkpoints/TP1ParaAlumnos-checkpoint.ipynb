{
 "cells": [
  {
   "cell_type": "code",
   "execution_count": null,
   "metadata": {
    "id": "qgOYqUMqkqR8"
   },
   "outputs": [],
   "source": [
    "#@title Aprendizaje Profundo | Otoño 2021 by Datitos{display-mode: \"form\" }\n",
    "#@markdown ![71335171.png](data:image/png;base64,iVBORw0KGgoAAAANSUhEUgAAAMgAAADICAIAAAAiOjnJAAACwElEQVR4nOzdMY7iQBBA0WU197/FnJNNJ/FqWvLHZfd7McIGfVVQos3X+/3+A2f7e/UN8EzCIiEsEsIiISwSwiIhLBLCIiEsEsIiISwSwiIhLBLCIiEsEsIiISwSwiIhLBLCIiEsEsIiISwSwiIhLBLCIiEsEsIiISwSwiIhLBLCIiEsEsIiISwSwiIhLBLCIiEsEsIiISwSwiIhLBJfV9/A/7xer6XX3/1/gZ70eU0sEsIiISwSwiIhLBLCIiEsEiP2WEf7m9U9zVnvU9vh85pYJIRFQlgkhEVCWCSERUJYJEbssc5ytL+5at8zec9UM7FICIuEsEgIi4SwSAiLhLBIPGqPdWR1v1VfdwcmFglhkRAWCWGREBYJYZEQFokt9lhHdt4z1UwsEsIiISwSwiIhLBLCIiEsEh/dY+18zq4w7RzlTyYWCWGREBYJYZEQFglhkRAWiS1+jzVhr/Mbd7nP3zCxSAiLhLBICIuEsEgIi4SwSDxqj1U/72r1ulc9l2sCE4uEsEgIi4SwSAiLhLBICIvE7D3W9/fSy6/63dLqdZfvc/F7mMDEIiEsEsIiISwSwiIhLBLCIjF7j3WSs87rTXufyUwsEsIiISwSwiIhLBLCIiEsEq8Ju5N6r3OXc3xP2oeZWCSERUJYJIRFQlgkhEVCWCRG7LGOTN7TfNIdvwcTi4SwSAiLhLBICIuEsEgIi8Toc4U7Pyf9p8n7qiMmFglhkRAWCWGREBYJYZEQFonRe6wjd9zr7MbEIiEsEsIiISwSwiIhLBLCIiEsEsIiISwSwiIhLBLCIiEsEsIiISwSwiIhLBLCIiEsEsIiISwSwiIhLBLCIiEsEsIiISwSwiIhLBLCIiEsEsIiISwSwiIhLBLCIiEsEsIiISwSwiIhLBLCIiEsEsIiISwSwiIhLBLCIiEsEsIi8S8AAP//HtRtH09JwIEAAAAASUVORK5CYII=)\n",
    "#El siguiente notebook fue diseñado por Pablo Marinozi como el primer trabajo práctico correspondiente a la versión de Otoño del 2021 del curso Aprendizaje Profundo organizado por Datitos \n",
    "#Para mayor información consultar https://datitos.github.io/curso-aprendizaje-profundo/#calendario"
   ]
  },
  {
   "cell_type": "markdown",
   "metadata": {
    "id": "Gl4P6BiNsgI9"
   },
   "source": [
    "# Trabajo Práctico N°1: Preprocesamiento y Manipulación de Datos"
   ]
  },
  {
   "cell_type": "markdown",
   "metadata": {
    "id": "YAJ4BdmGsyDZ"
   },
   "source": [
    "Este trabajo práctico tiene dos partes.\n",
    "\n",
    "El objetivo de la primera es aprender cómo preprocesar datos usando la biblioteca `pandas`.\n",
    "\n",
    "El objetivo de la segunda es realizar ejercicios para reforzar el manejo de tensores con `Pytorch`."
   ]
  },
  {
   "cell_type": "markdown",
   "metadata": {
    "id": "xjsWU7ngi4Xr"
   },
   "source": [
    "## Parte 0: Importar Librerías"
   ]
  },
  {
   "cell_type": "code",
   "execution_count": 1,
   "metadata": {
    "id": "LVw1QNI9i9ro"
   },
   "outputs": [],
   "source": [
    "import pandas as pd\n",
    "import numpy as np\n",
    "import matplotlib.pyplot as plt \n",
    "import torch"
   ]
  },
  {
   "cell_type": "markdown",
   "metadata": {
    "id": "gFc0axFhlD_X"
   },
   "source": [
    "## Parte 1: Preprocesamiento de Datos"
   ]
  },
  {
   "cell_type": "markdown",
   "metadata": {
    "id": "004NAgMAtymc"
   },
   "source": [
    "### Valores Faltantes\n",
    "\n"
   ]
  },
  {
   "cell_type": "markdown",
   "metadata": {
    "id": "6KD1j4I6uLQ-"
   },
   "source": [
    "En esta sección del práctico vamos a trabajar con el dataset relacionado a la hepatitis. El siguiente código descarga el csv."
   ]
  },
  {
   "cell_type": "code",
   "execution_count": 7,
   "metadata": {
    "id": "UBLn0rBhtx9U"
   },
   "outputs": [
    {
     "name": "stdout",
     "output_type": "stream",
     "text": [
      "--2021-03-17 18:48:28--  https://drive.google.com/uc?id=1UmZdyg15LEmlNIqCbpQTChdpPKoHcru1\n",
      "Resolving drive.google.com (drive.google.com)... 172.217.162.14, 2800:3f0:4002:809::200e\n",
      "Connecting to drive.google.com (drive.google.com)|172.217.162.14|:443... connected.\n",
      "HTTP request sent, awaiting response... 302 Moved Temporarily\n",
      "Location: https://doc-0o-10-docs.googleusercontent.com/docs/securesc/ha0ro937gcuc7l7deffksulhg5h7mbp1/5b0dapdteud013onp1gc91p1okrgnp8k/1616017650000/04218818404413865365/*/1UmZdyg15LEmlNIqCbpQTChdpPKoHcru1 [following]\n",
      "Warning: wildcards not supported in HTTP.\n",
      "--2021-03-17 18:48:29--  https://doc-0o-10-docs.googleusercontent.com/docs/securesc/ha0ro937gcuc7l7deffksulhg5h7mbp1/5b0dapdteud013onp1gc91p1okrgnp8k/1616017650000/04218818404413865365/*/1UmZdyg15LEmlNIqCbpQTChdpPKoHcru1\n",
      "Resolving doc-0o-10-docs.googleusercontent.com (doc-0o-10-docs.googleusercontent.com)... 172.217.172.65, 2800:3f0:4002:802::2001\n",
      "Connecting to doc-0o-10-docs.googleusercontent.com (doc-0o-10-docs.googleusercontent.com)|172.217.172.65|:443... connected.\n",
      "HTTP request sent, awaiting response... 200 OK\n",
      "Length: 15199 (15K) [text/csv]\n",
      "Saving to: ‘uc?id=1UmZdyg15LEmlNIqCbpQTChdpPKoHcru1’\n",
      "\n",
      "uc?id=1UmZdyg15LEml 100%[===================>]  14,84K  --.-KB/s    in 0,002s  \n",
      "\n",
      "2021-03-17 18:48:29 (6,10 MB/s) - ‘uc?id=1UmZdyg15LEmlNIqCbpQTChdpPKoHcru1’ saved [15199/15199]\n",
      "\n"
     ]
    }
   ],
   "source": [
    "!wget https://drive.google.com/uc?id=1UmZdyg15LEmlNIqCbpQTChdpPKoHcru1\n",
    "!mv uc?id=1UmZdyg15LEmlNIqCbpQTChdpPKoHcru1 data/hepatitis.csv"
   ]
  },
  {
   "cell_type": "markdown",
   "metadata": {
    "id": "NCJw75dTwEmy"
   },
   "source": [
    "En primer lugar, importe los datos del archivo utilizando la biblioteca de `pandas` y conviértalos en un dataframe con la funcion `read_csv()`. Luego, a través del método `head(10)` imprima por pantalla solo las primeras 10 filas del conjunto de datos."
   ]
  },
  {
   "cell_type": "code",
   "execution_count": 77,
   "metadata": {
    "id": "cheUum0AosZB"
   },
   "outputs": [
    {
     "data": {
      "text/html": [
       "<div>\n",
       "<style scoped>\n",
       "    .dataframe tbody tr th:only-of-type {\n",
       "        vertical-align: middle;\n",
       "    }\n",
       "\n",
       "    .dataframe tbody tr th {\n",
       "        vertical-align: top;\n",
       "    }\n",
       "\n",
       "    .dataframe thead th {\n",
       "        text-align: right;\n",
       "    }\n",
       "</style>\n",
       "<table border=\"1\" class=\"dataframe\">\n",
       "  <thead>\n",
       "    <tr style=\"text-align: right;\">\n",
       "      <th></th>\n",
       "      <th>age</th>\n",
       "      <th>sex</th>\n",
       "      <th>steroid</th>\n",
       "      <th>antivirals</th>\n",
       "      <th>fatigue</th>\n",
       "      <th>malaise</th>\n",
       "      <th>anorexia</th>\n",
       "      <th>liver_big</th>\n",
       "      <th>liver_firm</th>\n",
       "      <th>spleen_palpable</th>\n",
       "      <th>spiders</th>\n",
       "      <th>ascites</th>\n",
       "      <th>varices</th>\n",
       "      <th>bilirubin</th>\n",
       "      <th>alk_phosphate</th>\n",
       "      <th>sgot</th>\n",
       "      <th>albumin</th>\n",
       "      <th>protime</th>\n",
       "      <th>histology</th>\n",
       "      <th>class</th>\n",
       "    </tr>\n",
       "  </thead>\n",
       "  <tbody>\n",
       "    <tr>\n",
       "      <th>0</th>\n",
       "      <td>30</td>\n",
       "      <td>male</td>\n",
       "      <td>False</td>\n",
       "      <td>False</td>\n",
       "      <td>False</td>\n",
       "      <td>False</td>\n",
       "      <td>False</td>\n",
       "      <td>False</td>\n",
       "      <td>False</td>\n",
       "      <td>False</td>\n",
       "      <td>False</td>\n",
       "      <td>False</td>\n",
       "      <td>False</td>\n",
       "      <td>1.0</td>\n",
       "      <td>85.0</td>\n",
       "      <td>18.0</td>\n",
       "      <td>4.0</td>\n",
       "      <td>NaN</td>\n",
       "      <td>False</td>\n",
       "      <td>live</td>\n",
       "    </tr>\n",
       "    <tr>\n",
       "      <th>1</th>\n",
       "      <td>50</td>\n",
       "      <td>female</td>\n",
       "      <td>False</td>\n",
       "      <td>False</td>\n",
       "      <td>True</td>\n",
       "      <td>False</td>\n",
       "      <td>False</td>\n",
       "      <td>False</td>\n",
       "      <td>False</td>\n",
       "      <td>False</td>\n",
       "      <td>False</td>\n",
       "      <td>False</td>\n",
       "      <td>False</td>\n",
       "      <td>0.9</td>\n",
       "      <td>135.0</td>\n",
       "      <td>42.0</td>\n",
       "      <td>3.5</td>\n",
       "      <td>NaN</td>\n",
       "      <td>False</td>\n",
       "      <td>live</td>\n",
       "    </tr>\n",
       "    <tr>\n",
       "      <th>2</th>\n",
       "      <td>78</td>\n",
       "      <td>female</td>\n",
       "      <td>True</td>\n",
       "      <td>False</td>\n",
       "      <td>True</td>\n",
       "      <td>False</td>\n",
       "      <td>False</td>\n",
       "      <td>True</td>\n",
       "      <td>False</td>\n",
       "      <td>False</td>\n",
       "      <td>False</td>\n",
       "      <td>False</td>\n",
       "      <td>False</td>\n",
       "      <td>0.7</td>\n",
       "      <td>96.0</td>\n",
       "      <td>32.0</td>\n",
       "      <td>4.0</td>\n",
       "      <td>NaN</td>\n",
       "      <td>False</td>\n",
       "      <td>live</td>\n",
       "    </tr>\n",
       "    <tr>\n",
       "      <th>3</th>\n",
       "      <td>31</td>\n",
       "      <td>female</td>\n",
       "      <td>NaN</td>\n",
       "      <td>True</td>\n",
       "      <td>False</td>\n",
       "      <td>False</td>\n",
       "      <td>False</td>\n",
       "      <td>True</td>\n",
       "      <td>False</td>\n",
       "      <td>False</td>\n",
       "      <td>False</td>\n",
       "      <td>False</td>\n",
       "      <td>False</td>\n",
       "      <td>0.7</td>\n",
       "      <td>46.0</td>\n",
       "      <td>52.0</td>\n",
       "      <td>4.0</td>\n",
       "      <td>80.0</td>\n",
       "      <td>False</td>\n",
       "      <td>live</td>\n",
       "    </tr>\n",
       "    <tr>\n",
       "      <th>4</th>\n",
       "      <td>34</td>\n",
       "      <td>female</td>\n",
       "      <td>True</td>\n",
       "      <td>False</td>\n",
       "      <td>False</td>\n",
       "      <td>False</td>\n",
       "      <td>False</td>\n",
       "      <td>True</td>\n",
       "      <td>False</td>\n",
       "      <td>False</td>\n",
       "      <td>False</td>\n",
       "      <td>False</td>\n",
       "      <td>False</td>\n",
       "      <td>1.0</td>\n",
       "      <td>NaN</td>\n",
       "      <td>200.0</td>\n",
       "      <td>4.0</td>\n",
       "      <td>NaN</td>\n",
       "      <td>False</td>\n",
       "      <td>live</td>\n",
       "    </tr>\n",
       "    <tr>\n",
       "      <th>5</th>\n",
       "      <td>34</td>\n",
       "      <td>female</td>\n",
       "      <td>True</td>\n",
       "      <td>False</td>\n",
       "      <td>False</td>\n",
       "      <td>False</td>\n",
       "      <td>False</td>\n",
       "      <td>True</td>\n",
       "      <td>False</td>\n",
       "      <td>False</td>\n",
       "      <td>False</td>\n",
       "      <td>False</td>\n",
       "      <td>False</td>\n",
       "      <td>0.9</td>\n",
       "      <td>95.0</td>\n",
       "      <td>28.0</td>\n",
       "      <td>4.0</td>\n",
       "      <td>75.0</td>\n",
       "      <td>False</td>\n",
       "      <td>live</td>\n",
       "    </tr>\n",
       "    <tr>\n",
       "      <th>6</th>\n",
       "      <td>51</td>\n",
       "      <td>female</td>\n",
       "      <td>False</td>\n",
       "      <td>False</td>\n",
       "      <td>True</td>\n",
       "      <td>False</td>\n",
       "      <td>True</td>\n",
       "      <td>True</td>\n",
       "      <td>False</td>\n",
       "      <td>True</td>\n",
       "      <td>True</td>\n",
       "      <td>False</td>\n",
       "      <td>False</td>\n",
       "      <td>NaN</td>\n",
       "      <td>NaN</td>\n",
       "      <td>NaN</td>\n",
       "      <td>NaN</td>\n",
       "      <td>NaN</td>\n",
       "      <td>False</td>\n",
       "      <td>die</td>\n",
       "    </tr>\n",
       "    <tr>\n",
       "      <th>7</th>\n",
       "      <td>23</td>\n",
       "      <td>female</td>\n",
       "      <td>True</td>\n",
       "      <td>False</td>\n",
       "      <td>False</td>\n",
       "      <td>False</td>\n",
       "      <td>False</td>\n",
       "      <td>True</td>\n",
       "      <td>False</td>\n",
       "      <td>False</td>\n",
       "      <td>False</td>\n",
       "      <td>False</td>\n",
       "      <td>False</td>\n",
       "      <td>1.0</td>\n",
       "      <td>NaN</td>\n",
       "      <td>NaN</td>\n",
       "      <td>NaN</td>\n",
       "      <td>NaN</td>\n",
       "      <td>False</td>\n",
       "      <td>live</td>\n",
       "    </tr>\n",
       "    <tr>\n",
       "      <th>8</th>\n",
       "      <td>39</td>\n",
       "      <td>female</td>\n",
       "      <td>True</td>\n",
       "      <td>False</td>\n",
       "      <td>True</td>\n",
       "      <td>False</td>\n",
       "      <td>False</td>\n",
       "      <td>True</td>\n",
       "      <td>True</td>\n",
       "      <td>False</td>\n",
       "      <td>False</td>\n",
       "      <td>False</td>\n",
       "      <td>False</td>\n",
       "      <td>0.7</td>\n",
       "      <td>NaN</td>\n",
       "      <td>48.0</td>\n",
       "      <td>4.4</td>\n",
       "      <td>NaN</td>\n",
       "      <td>False</td>\n",
       "      <td>live</td>\n",
       "    </tr>\n",
       "    <tr>\n",
       "      <th>9</th>\n",
       "      <td>30</td>\n",
       "      <td>female</td>\n",
       "      <td>True</td>\n",
       "      <td>False</td>\n",
       "      <td>False</td>\n",
       "      <td>False</td>\n",
       "      <td>False</td>\n",
       "      <td>True</td>\n",
       "      <td>False</td>\n",
       "      <td>False</td>\n",
       "      <td>False</td>\n",
       "      <td>False</td>\n",
       "      <td>False</td>\n",
       "      <td>1.0</td>\n",
       "      <td>NaN</td>\n",
       "      <td>120.0</td>\n",
       "      <td>3.9</td>\n",
       "      <td>NaN</td>\n",
       "      <td>False</td>\n",
       "      <td>live</td>\n",
       "    </tr>\n",
       "  </tbody>\n",
       "</table>\n",
       "</div>"
      ],
      "text/plain": [
       "   age     sex steroid  antivirals fatigue malaise anorexia liver_big  \\\n",
       "0   30    male   False       False   False   False    False     False   \n",
       "1   50  female   False       False    True   False    False     False   \n",
       "2   78  female    True       False    True   False    False      True   \n",
       "3   31  female     NaN        True   False   False    False      True   \n",
       "4   34  female    True       False   False   False    False      True   \n",
       "5   34  female    True       False   False   False    False      True   \n",
       "6   51  female   False       False    True   False     True      True   \n",
       "7   23  female    True       False   False   False    False      True   \n",
       "8   39  female    True       False    True   False    False      True   \n",
       "9   30  female    True       False   False   False    False      True   \n",
       "\n",
       "  liver_firm spleen_palpable spiders ascites varices  bilirubin  \\\n",
       "0      False           False   False   False   False        1.0   \n",
       "1      False           False   False   False   False        0.9   \n",
       "2      False           False   False   False   False        0.7   \n",
       "3      False           False   False   False   False        0.7   \n",
       "4      False           False   False   False   False        1.0   \n",
       "5      False           False   False   False   False        0.9   \n",
       "6      False            True    True   False   False        NaN   \n",
       "7      False           False   False   False   False        1.0   \n",
       "8       True           False   False   False   False        0.7   \n",
       "9      False           False   False   False   False        1.0   \n",
       "\n",
       "   alk_phosphate   sgot  albumin  protime  histology class  \n",
       "0           85.0   18.0      4.0      NaN      False  live  \n",
       "1          135.0   42.0      3.5      NaN      False  live  \n",
       "2           96.0   32.0      4.0      NaN      False  live  \n",
       "3           46.0   52.0      4.0     80.0      False  live  \n",
       "4            NaN  200.0      4.0      NaN      False  live  \n",
       "5           95.0   28.0      4.0     75.0      False  live  \n",
       "6            NaN    NaN      NaN      NaN      False   die  \n",
       "7            NaN    NaN      NaN      NaN      False  live  \n",
       "8            NaN   48.0      4.4      NaN      False  live  \n",
       "9            NaN  120.0      3.9      NaN      False  live  "
      ]
     },
     "execution_count": 77,
     "metadata": {},
     "output_type": "execute_result"
    }
   ],
   "source": [
    "df = pd.read_csv('data/hepatitis.csv')\n",
    "df.head(10)"
   ]
  },
  {
   "cell_type": "markdown",
   "metadata": {
    "id": "Zq73YMCwwfYf"
   },
   "source": [
    "Observamos que el dataset presenta algunos problemas. Por ejemplo, el valor de la columna `albumin` no está disponible para todas las filas. En algunos casos presenta el valor NaN, lo que significa que falta el valor.\n",
    "\n",
    "Para verificar si nuestro dataset contiene valores faltantes, podemos usar la función `isna()`, que devuelve si una celda del conjunto de datos es NaN o no. Luego, deberemos contar cuántos valores faltantes hay para cada columna. "
   ]
  },
  {
   "cell_type": "code",
   "execution_count": 10,
   "metadata": {
    "id": "9YnV7CyFxrUj"
   },
   "outputs": [
    {
     "data": {
      "text/plain": [
       "age                 0\n",
       "sex                 0\n",
       "steroid             1\n",
       "antivirals          0\n",
       "fatigue             1\n",
       "malaise             1\n",
       "anorexia            1\n",
       "liver_big          10\n",
       "liver_firm         11\n",
       "spleen_palpable     5\n",
       "spiders             5\n",
       "ascites             5\n",
       "varices             5\n",
       "bilirubin           6\n",
       "alk_phosphate      29\n",
       "sgot                4\n",
       "albumin            16\n",
       "protime            67\n",
       "histology           0\n",
       "class               0\n",
       "dtype: int64"
      ]
     },
     "execution_count": 10,
     "metadata": {},
     "output_type": "execute_result"
    }
   ],
   "source": [
    "df.isna().sum()"
   ]
  },
  {
   "cell_type": "markdown",
   "metadata": {
    "id": "QnKSp5Udybeq"
   },
   "source": [
    "Cuando se trata de valores faltantes, se pueden aplicar diferentes estrategias:\n",
    "\n",
    "* ponerse en contacto con la fuente de datos para corregir los valores faltantes,\n",
    "* eliminar los valores faltantes,\n",
    "* reemplazar el valor faltante con algún valor y\n",
    "* dejar el valor faltante como está.\n",
    "\n",
    "La primera estrategia no siempre es factible y no creemos que necesiten nuestra ayuda para adoptar la última. En las siguientes subsecciones analizaremos las dos estrategias restantes."
   ]
  },
  {
   "cell_type": "markdown",
   "metadata": {
    "id": "Cm0ZeSzjzNnj"
   },
   "source": [
    "#### Eliminar los valores faltantes"
   ]
  },
  {
   "cell_type": "markdown",
   "metadata": {
    "id": "sNKd1oP6zRKh"
   },
   "source": [
    "Hay dos maneras de eliminar los valores faltantes:\n",
    "\n",
    "* eliminar las filas que contengan valores faltantes\n",
    "* eliminar las columnas que los contengan.\n",
    "\n",
    "Podemos usar `dropna()` para esta tarea especificando el eje a considerar. Si configuramos `axis=0`, descartamos toda la fila, si configuramos `axis=1`, descartamos toda la columna. \n",
    "\n",
    "Genere dos versiones nuevas del dataset utilizando la estrategia correspondiente en cada caso y analice los tamaños de los dataframes resultantes. "
   ]
  },
  {
   "cell_type": "code",
   "execution_count": 16,
   "metadata": {
    "id": "vdTWAvwk0RK5"
   },
   "outputs": [
    {
     "name": "stdout",
     "output_type": "stream",
     "text": [
      "Shape original: (155, 20)\n",
      "Shape eliminando filas: (80, 20)\n",
      "Shape eliminando columnas: (155, 5)\n"
     ]
    }
   ],
   "source": [
    "df_rm_rows = df.dropna(axis=0)\n",
    "df_rm_cols = df.dropna(axis=1)\n",
    "\n",
    "print(f'''Shape original: {df.shape}\n",
    "Shape eliminando filas: {df_rm_rows.shape}\n",
    "Shape eliminando columnas: {df_rm_cols.shape}''')"
   ]
  },
  {
   "cell_type": "markdown",
   "metadata": {
    "id": "hrsaRPHB0uoA"
   },
   "source": [
    "Como alternativa, podemos especificar solo la columna en la que se debe aplicar la operación de dropping. En el siguiente ejemplo, solo se consideran las filas faltantes relacionadas con la columna `liver_big`. Esto se puede lograr a través del parámetro `subset`, que permite especificar el subconjunto de columnas donde aplicar la operación de dropping. Verifique si siguen existiendo valores NaN en el resto de las columnas."
   ]
  },
  {
   "cell_type": "code",
   "execution_count": 78,
   "metadata": {
    "id": "R3dyOOZl1KHD"
   },
   "outputs": [
    {
     "data": {
      "text/plain": [
       "age                 0\n",
       "sex                 0\n",
       "steroid             1\n",
       "antivirals          0\n",
       "fatigue             0\n",
       "malaise             0\n",
       "anorexia            0\n",
       "liver_big           0\n",
       "liver_firm          1\n",
       "spleen_palpable     1\n",
       "spiders             1\n",
       "ascites             1\n",
       "varices             1\n",
       "bilirubin           4\n",
       "alk_phosphate      24\n",
       "sgot                2\n",
       "albumin            13\n",
       "protime            59\n",
       "histology           0\n",
       "class               0\n",
       "dtype: int64"
      ]
     },
     "execution_count": 78,
     "metadata": {},
     "output_type": "execute_result"
    }
   ],
   "source": [
    "df.dropna(subset=['liver_big'], axis=0, inplace=True)\n",
    "df.isna().sum()"
   ]
  },
  {
   "cell_type": "markdown",
   "metadata": {
    "id": "xHtuaaol1jEj"
   },
   "source": [
    "Otra alternativa consiste en eliminar las columnas en las que se dispone de un cierto porcentaje de valores no nulos. Esto se puede lograr mediante el parámetro `thresh`. Intente utilizar este parámetro para mantener solo las columnas donde haya al menos el 80% de valores no nulos. "
   ]
  },
  {
   "cell_type": "code",
   "execution_count": 79,
   "metadata": {
    "id": "hPv7dEWX1wgR"
   },
   "outputs": [],
   "source": [
    "df.dropna(thresh=int(0.2*len(df)), axis=1, inplace=True)"
   ]
  },
  {
   "cell_type": "markdown",
   "metadata": {
    "id": "a19OeruY2Aza"
   },
   "source": [
    "#### Reemplazar valores faltantes "
   ]
  },
  {
   "cell_type": "markdown",
   "metadata": {
    "id": "nWnI069U2HUf"
   },
   "source": [
    "Una buena estrategia a la hora de trabajar son valores faltantes implica su reemplazo por otro valor. Por lo general, se adoptan las siguientes estrategias:\n",
    "\n",
    "* para valores numéricos, reemplazar el valor faltante con el valor promedio de la columna\n",
    "* para valores categóricos, reemplazar el valor faltante con el valor más frecuente de la columna"
   ]
  },
  {
   "cell_type": "markdown",
   "metadata": {
    "id": "Oi_aoDy52j35"
   },
   "source": [
    "Para averiguar el tipo de datos de las columnas podemos  usar el atributo `dtypes` de la siguiente manera"
   ]
  },
  {
   "cell_type": "code",
   "execution_count": 80,
   "metadata": {
    "id": "03xEK7kQ2vTK"
   },
   "outputs": [
    {
     "data": {
      "text/plain": [
       "age                  int64\n",
       "sex                 object\n",
       "steroid             object\n",
       "antivirals            bool\n",
       "fatigue             object\n",
       "malaise             object\n",
       "anorexia            object\n",
       "liver_big           object\n",
       "liver_firm          object\n",
       "spleen_palpable     object\n",
       "spiders             object\n",
       "ascites             object\n",
       "varices             object\n",
       "bilirubin          float64\n",
       "alk_phosphate      float64\n",
       "sgot               float64\n",
       "albumin            float64\n",
       "protime            float64\n",
       "histology             bool\n",
       "class               object\n",
       "dtype: object"
      ]
     },
     "execution_count": 80,
     "metadata": {},
     "output_type": "execute_result"
    }
   ],
   "source": [
    "df.dtypes"
   ]
  },
  {
   "cell_type": "markdown",
   "metadata": {
    "id": "LUerlADj9hTy"
   },
   "source": [
    "Usando la función `select_dtypes()` podemos generar una lista que contenga los nombres de las columnas numéricas y otra que contenga los de la columnas categóricas filtrando por `np.number `y `np.object` respectivamente."
   ]
  },
  {
   "cell_type": "code",
   "execution_count": 81,
   "metadata": {
    "id": "ZqTFg5sz95pY"
   },
   "outputs": [
    {
     "data": {
      "text/html": [
       "<div>\n",
       "<style scoped>\n",
       "    .dataframe tbody tr th:only-of-type {\n",
       "        vertical-align: middle;\n",
       "    }\n",
       "\n",
       "    .dataframe tbody tr th {\n",
       "        vertical-align: top;\n",
       "    }\n",
       "\n",
       "    .dataframe thead th {\n",
       "        text-align: right;\n",
       "    }\n",
       "</style>\n",
       "<table border=\"1\" class=\"dataframe\">\n",
       "  <thead>\n",
       "    <tr style=\"text-align: right;\">\n",
       "      <th></th>\n",
       "      <th>age</th>\n",
       "      <th>bilirubin</th>\n",
       "      <th>alk_phosphate</th>\n",
       "      <th>sgot</th>\n",
       "      <th>albumin</th>\n",
       "      <th>protime</th>\n",
       "    </tr>\n",
       "  </thead>\n",
       "  <tbody>\n",
       "    <tr>\n",
       "      <th>0</th>\n",
       "      <td>30</td>\n",
       "      <td>1.0</td>\n",
       "      <td>85.0</td>\n",
       "      <td>18.0</td>\n",
       "      <td>4.0</td>\n",
       "      <td>NaN</td>\n",
       "    </tr>\n",
       "    <tr>\n",
       "      <th>1</th>\n",
       "      <td>50</td>\n",
       "      <td>0.9</td>\n",
       "      <td>135.0</td>\n",
       "      <td>42.0</td>\n",
       "      <td>3.5</td>\n",
       "      <td>NaN</td>\n",
       "    </tr>\n",
       "    <tr>\n",
       "      <th>2</th>\n",
       "      <td>78</td>\n",
       "      <td>0.7</td>\n",
       "      <td>96.0</td>\n",
       "      <td>32.0</td>\n",
       "      <td>4.0</td>\n",
       "      <td>NaN</td>\n",
       "    </tr>\n",
       "    <tr>\n",
       "      <th>3</th>\n",
       "      <td>31</td>\n",
       "      <td>0.7</td>\n",
       "      <td>46.0</td>\n",
       "      <td>52.0</td>\n",
       "      <td>4.0</td>\n",
       "      <td>80.0</td>\n",
       "    </tr>\n",
       "    <tr>\n",
       "      <th>4</th>\n",
       "      <td>34</td>\n",
       "      <td>1.0</td>\n",
       "      <td>NaN</td>\n",
       "      <td>200.0</td>\n",
       "      <td>4.0</td>\n",
       "      <td>NaN</td>\n",
       "    </tr>\n",
       "    <tr>\n",
       "      <th>...</th>\n",
       "      <td>...</td>\n",
       "      <td>...</td>\n",
       "      <td>...</td>\n",
       "      <td>...</td>\n",
       "      <td>...</td>\n",
       "      <td>...</td>\n",
       "    </tr>\n",
       "    <tr>\n",
       "      <th>150</th>\n",
       "      <td>46</td>\n",
       "      <td>7.6</td>\n",
       "      <td>NaN</td>\n",
       "      <td>242.0</td>\n",
       "      <td>3.3</td>\n",
       "      <td>50.0</td>\n",
       "    </tr>\n",
       "    <tr>\n",
       "      <th>151</th>\n",
       "      <td>44</td>\n",
       "      <td>0.9</td>\n",
       "      <td>126.0</td>\n",
       "      <td>142.0</td>\n",
       "      <td>4.3</td>\n",
       "      <td>NaN</td>\n",
       "    </tr>\n",
       "    <tr>\n",
       "      <th>152</th>\n",
       "      <td>61</td>\n",
       "      <td>0.8</td>\n",
       "      <td>75.0</td>\n",
       "      <td>20.0</td>\n",
       "      <td>4.1</td>\n",
       "      <td>NaN</td>\n",
       "    </tr>\n",
       "    <tr>\n",
       "      <th>153</th>\n",
       "      <td>53</td>\n",
       "      <td>1.5</td>\n",
       "      <td>81.0</td>\n",
       "      <td>19.0</td>\n",
       "      <td>4.1</td>\n",
       "      <td>48.0</td>\n",
       "    </tr>\n",
       "    <tr>\n",
       "      <th>154</th>\n",
       "      <td>43</td>\n",
       "      <td>1.2</td>\n",
       "      <td>100.0</td>\n",
       "      <td>19.0</td>\n",
       "      <td>3.1</td>\n",
       "      <td>42.0</td>\n",
       "    </tr>\n",
       "  </tbody>\n",
       "</table>\n",
       "<p>145 rows × 6 columns</p>\n",
       "</div>"
      ],
      "text/plain": [
       "     age  bilirubin  alk_phosphate   sgot  albumin  protime\n",
       "0     30        1.0           85.0   18.0      4.0      NaN\n",
       "1     50        0.9          135.0   42.0      3.5      NaN\n",
       "2     78        0.7           96.0   32.0      4.0      NaN\n",
       "3     31        0.7           46.0   52.0      4.0     80.0\n",
       "4     34        1.0            NaN  200.0      4.0      NaN\n",
       "..   ...        ...            ...    ...      ...      ...\n",
       "150   46        7.6            NaN  242.0      3.3     50.0\n",
       "151   44        0.9          126.0  142.0      4.3      NaN\n",
       "152   61        0.8           75.0   20.0      4.1      NaN\n",
       "153   53        1.5           81.0   19.0      4.1     48.0\n",
       "154   43        1.2          100.0   19.0      3.1     42.0\n",
       "\n",
       "[145 rows x 6 columns]"
      ]
     },
     "execution_count": 81,
     "metadata": {},
     "output_type": "execute_result"
    }
   ],
   "source": [
    "df.select_dtypes(include=np.number)"
   ]
  },
  {
   "cell_type": "code",
   "execution_count": 82,
   "metadata": {},
   "outputs": [
    {
     "data": {
      "text/html": [
       "<div>\n",
       "<style scoped>\n",
       "    .dataframe tbody tr th:only-of-type {\n",
       "        vertical-align: middle;\n",
       "    }\n",
       "\n",
       "    .dataframe tbody tr th {\n",
       "        vertical-align: top;\n",
       "    }\n",
       "\n",
       "    .dataframe thead th {\n",
       "        text-align: right;\n",
       "    }\n",
       "</style>\n",
       "<table border=\"1\" class=\"dataframe\">\n",
       "  <thead>\n",
       "    <tr style=\"text-align: right;\">\n",
       "      <th></th>\n",
       "      <th>sex</th>\n",
       "      <th>steroid</th>\n",
       "      <th>fatigue</th>\n",
       "      <th>malaise</th>\n",
       "      <th>anorexia</th>\n",
       "      <th>liver_big</th>\n",
       "      <th>liver_firm</th>\n",
       "      <th>spleen_palpable</th>\n",
       "      <th>spiders</th>\n",
       "      <th>ascites</th>\n",
       "      <th>varices</th>\n",
       "      <th>class</th>\n",
       "    </tr>\n",
       "  </thead>\n",
       "  <tbody>\n",
       "    <tr>\n",
       "      <th>0</th>\n",
       "      <td>male</td>\n",
       "      <td>False</td>\n",
       "      <td>False</td>\n",
       "      <td>False</td>\n",
       "      <td>False</td>\n",
       "      <td>False</td>\n",
       "      <td>False</td>\n",
       "      <td>False</td>\n",
       "      <td>False</td>\n",
       "      <td>False</td>\n",
       "      <td>False</td>\n",
       "      <td>live</td>\n",
       "    </tr>\n",
       "    <tr>\n",
       "      <th>1</th>\n",
       "      <td>female</td>\n",
       "      <td>False</td>\n",
       "      <td>True</td>\n",
       "      <td>False</td>\n",
       "      <td>False</td>\n",
       "      <td>False</td>\n",
       "      <td>False</td>\n",
       "      <td>False</td>\n",
       "      <td>False</td>\n",
       "      <td>False</td>\n",
       "      <td>False</td>\n",
       "      <td>live</td>\n",
       "    </tr>\n",
       "    <tr>\n",
       "      <th>2</th>\n",
       "      <td>female</td>\n",
       "      <td>True</td>\n",
       "      <td>True</td>\n",
       "      <td>False</td>\n",
       "      <td>False</td>\n",
       "      <td>True</td>\n",
       "      <td>False</td>\n",
       "      <td>False</td>\n",
       "      <td>False</td>\n",
       "      <td>False</td>\n",
       "      <td>False</td>\n",
       "      <td>live</td>\n",
       "    </tr>\n",
       "    <tr>\n",
       "      <th>3</th>\n",
       "      <td>female</td>\n",
       "      <td>NaN</td>\n",
       "      <td>False</td>\n",
       "      <td>False</td>\n",
       "      <td>False</td>\n",
       "      <td>True</td>\n",
       "      <td>False</td>\n",
       "      <td>False</td>\n",
       "      <td>False</td>\n",
       "      <td>False</td>\n",
       "      <td>False</td>\n",
       "      <td>live</td>\n",
       "    </tr>\n",
       "    <tr>\n",
       "      <th>4</th>\n",
       "      <td>female</td>\n",
       "      <td>True</td>\n",
       "      <td>False</td>\n",
       "      <td>False</td>\n",
       "      <td>False</td>\n",
       "      <td>True</td>\n",
       "      <td>False</td>\n",
       "      <td>False</td>\n",
       "      <td>False</td>\n",
       "      <td>False</td>\n",
       "      <td>False</td>\n",
       "      <td>live</td>\n",
       "    </tr>\n",
       "    <tr>\n",
       "      <th>...</th>\n",
       "      <td>...</td>\n",
       "      <td>...</td>\n",
       "      <td>...</td>\n",
       "      <td>...</td>\n",
       "      <td>...</td>\n",
       "      <td>...</td>\n",
       "      <td>...</td>\n",
       "      <td>...</td>\n",
       "      <td>...</td>\n",
       "      <td>...</td>\n",
       "      <td>...</td>\n",
       "      <td>...</td>\n",
       "    </tr>\n",
       "    <tr>\n",
       "      <th>150</th>\n",
       "      <td>female</td>\n",
       "      <td>True</td>\n",
       "      <td>True</td>\n",
       "      <td>True</td>\n",
       "      <td>True</td>\n",
       "      <td>True</td>\n",
       "      <td>False</td>\n",
       "      <td>False</td>\n",
       "      <td>True</td>\n",
       "      <td>True</td>\n",
       "      <td>True</td>\n",
       "      <td>die</td>\n",
       "    </tr>\n",
       "    <tr>\n",
       "      <th>151</th>\n",
       "      <td>female</td>\n",
       "      <td>True</td>\n",
       "      <td>True</td>\n",
       "      <td>False</td>\n",
       "      <td>False</td>\n",
       "      <td>True</td>\n",
       "      <td>True</td>\n",
       "      <td>False</td>\n",
       "      <td>False</td>\n",
       "      <td>False</td>\n",
       "      <td>False</td>\n",
       "      <td>live</td>\n",
       "    </tr>\n",
       "    <tr>\n",
       "      <th>152</th>\n",
       "      <td>female</td>\n",
       "      <td>False</td>\n",
       "      <td>True</td>\n",
       "      <td>True</td>\n",
       "      <td>False</td>\n",
       "      <td>False</td>\n",
       "      <td>True</td>\n",
       "      <td>False</td>\n",
       "      <td>True</td>\n",
       "      <td>False</td>\n",
       "      <td>False</td>\n",
       "      <td>live</td>\n",
       "    </tr>\n",
       "    <tr>\n",
       "      <th>153</th>\n",
       "      <td>male</td>\n",
       "      <td>False</td>\n",
       "      <td>True</td>\n",
       "      <td>False</td>\n",
       "      <td>False</td>\n",
       "      <td>True</td>\n",
       "      <td>False</td>\n",
       "      <td>True</td>\n",
       "      <td>True</td>\n",
       "      <td>False</td>\n",
       "      <td>True</td>\n",
       "      <td>live</td>\n",
       "    </tr>\n",
       "    <tr>\n",
       "      <th>154</th>\n",
       "      <td>female</td>\n",
       "      <td>True</td>\n",
       "      <td>True</td>\n",
       "      <td>False</td>\n",
       "      <td>False</td>\n",
       "      <td>True</td>\n",
       "      <td>False</td>\n",
       "      <td>True</td>\n",
       "      <td>True</td>\n",
       "      <td>True</td>\n",
       "      <td>False</td>\n",
       "      <td>die</td>\n",
       "    </tr>\n",
       "  </tbody>\n",
       "</table>\n",
       "<p>145 rows × 12 columns</p>\n",
       "</div>"
      ],
      "text/plain": [
       "        sex steroid fatigue malaise anorexia liver_big liver_firm  \\\n",
       "0      male   False   False   False    False     False      False   \n",
       "1    female   False    True   False    False     False      False   \n",
       "2    female    True    True   False    False      True      False   \n",
       "3    female     NaN   False   False    False      True      False   \n",
       "4    female    True   False   False    False      True      False   \n",
       "..      ...     ...     ...     ...      ...       ...        ...   \n",
       "150  female    True    True    True     True      True      False   \n",
       "151  female    True    True   False    False      True       True   \n",
       "152  female   False    True    True    False     False       True   \n",
       "153    male   False    True   False    False      True      False   \n",
       "154  female    True    True   False    False      True      False   \n",
       "\n",
       "    spleen_palpable spiders ascites varices class  \n",
       "0             False   False   False   False  live  \n",
       "1             False   False   False   False  live  \n",
       "2             False   False   False   False  live  \n",
       "3             False   False   False   False  live  \n",
       "4             False   False   False   False  live  \n",
       "..              ...     ...     ...     ...   ...  \n",
       "150           False    True    True    True   die  \n",
       "151           False   False   False   False  live  \n",
       "152           False    True   False   False  live  \n",
       "153            True    True   False    True  live  \n",
       "154            True    True    True   False   die  \n",
       "\n",
       "[145 rows x 12 columns]"
      ]
     },
     "execution_count": 82,
     "metadata": {},
     "output_type": "execute_result"
    }
   ],
   "source": [
    "df.select_dtypes(include=np.object)"
   ]
  },
  {
   "cell_type": "markdown",
   "metadata": {
    "id": "kUZwRAzL9MoB"
   },
   "source": [
    "En todos los casos podemos usar la función `fillna()` para reemplazar los valores faltantes con algún valor pasado como parámetro. En el caso de las variables numéricas deberíamos reemplazarlo por la media (`mean()`) y en el caso de las variables categóricas por la moda (`mode()`). Al finalizar, comprobar si aun quedan valores faltantes en el dataset."
   ]
  },
  {
   "cell_type": "code",
   "execution_count": 97,
   "metadata": {
    "id": "u-dMdyFy52L8"
   },
   "outputs": [],
   "source": [
    "df.loc[:, df.select_dtypes(np.number).columns] = df.select_dtypes(np.number).fillna(df.mean())"
   ]
  },
  {
   "cell_type": "code",
   "execution_count": 99,
   "metadata": {},
   "outputs": [
    {
     "data": {
      "text/plain": [
       "age                0\n",
       "sex                0\n",
       "steroid            1\n",
       "antivirals         0\n",
       "fatigue            0\n",
       "malaise            0\n",
       "anorexia           0\n",
       "liver_big          0\n",
       "liver_firm         1\n",
       "spleen_palpable    1\n",
       "spiders            1\n",
       "ascites            1\n",
       "varices            1\n",
       "bilirubin          0\n",
       "alk_phosphate      0\n",
       "sgot               0\n",
       "albumin            0\n",
       "protime            0\n",
       "histology          0\n",
       "class              0\n",
       "dtype: int64"
      ]
     },
     "execution_count": 99,
     "metadata": {},
     "output_type": "execute_result"
    }
   ],
   "source": [
    "df.loc[:, df.select_dtypes(np.object).columns] = df.select_dtypes(np.object).fillna(df.mode())"
   ]
  },
  {
   "cell_type": "code",
   "execution_count": 92,
   "metadata": {},
   "outputs": [
    {
     "data": {
      "text/plain": [
       "sex                female\n",
       "steroid              True\n",
       "fatigue              True\n",
       "malaise             False\n",
       "anorexia            False\n",
       "liver_big            True\n",
       "liver_firm          False\n",
       "spleen_palpable     False\n",
       "spiders             False\n",
       "ascites             False\n",
       "varices             False\n",
       "class                live\n",
       "Name: 0, dtype: object"
      ]
     },
     "execution_count": 92,
     "metadata": {},
     "output_type": "execute_result"
    }
   ],
   "source": [
    "df.fillna(df.select_dtypes(include=np.object).mode().iloc[0]"
   ]
  },
  {
   "cell_type": "code",
   "execution_count": 66,
   "metadata": {},
   "outputs": [
    {
     "data": {
      "text/html": [
       "<div>\n",
       "<style scoped>\n",
       "    .dataframe tbody tr th:only-of-type {\n",
       "        vertical-align: middle;\n",
       "    }\n",
       "\n",
       "    .dataframe tbody tr th {\n",
       "        vertical-align: top;\n",
       "    }\n",
       "\n",
       "    .dataframe thead th {\n",
       "        text-align: right;\n",
       "    }\n",
       "</style>\n",
       "<table border=\"1\" class=\"dataframe\">\n",
       "  <thead>\n",
       "    <tr style=\"text-align: right;\">\n",
       "      <th></th>\n",
       "      <th>age</th>\n",
       "      <th>sex</th>\n",
       "      <th>steroid</th>\n",
       "      <th>antivirals</th>\n",
       "      <th>fatigue</th>\n",
       "      <th>malaise</th>\n",
       "      <th>anorexia</th>\n",
       "      <th>liver_big</th>\n",
       "      <th>liver_firm</th>\n",
       "      <th>spleen_palpable</th>\n",
       "      <th>spiders</th>\n",
       "      <th>ascites</th>\n",
       "      <th>varices</th>\n",
       "      <th>bilirubin</th>\n",
       "      <th>alk_phosphate</th>\n",
       "      <th>sgot</th>\n",
       "      <th>albumin</th>\n",
       "      <th>protime</th>\n",
       "      <th>histology</th>\n",
       "      <th>class</th>\n",
       "    </tr>\n",
       "  </thead>\n",
       "  <tbody>\n",
       "    <tr>\n",
       "      <th>3</th>\n",
       "      <td>31</td>\n",
       "      <td>female</td>\n",
       "      <td>NaN</td>\n",
       "      <td>True</td>\n",
       "      <td>False</td>\n",
       "      <td>False</td>\n",
       "      <td>False</td>\n",
       "      <td>True</td>\n",
       "      <td>False</td>\n",
       "      <td>False</td>\n",
       "      <td>False</td>\n",
       "      <td>False</td>\n",
       "      <td>False</td>\n",
       "      <td>0.7</td>\n",
       "      <td>46.0</td>\n",
       "      <td>52.0</td>\n",
       "      <td>4.0</td>\n",
       "      <td>80.0</td>\n",
       "      <td>False</td>\n",
       "      <td>live</td>\n",
       "    </tr>\n",
       "    <tr>\n",
       "      <th>83</th>\n",
       "      <td>67</td>\n",
       "      <td>male</td>\n",
       "      <td>False</td>\n",
       "      <td>False</td>\n",
       "      <td>True</td>\n",
       "      <td>True</td>\n",
       "      <td>False</td>\n",
       "      <td>True</td>\n",
       "      <td>False</td>\n",
       "      <td>NaN</td>\n",
       "      <td>NaN</td>\n",
       "      <td>NaN</td>\n",
       "      <td>NaN</td>\n",
       "      <td>1.5</td>\n",
       "      <td>179.0</td>\n",
       "      <td>69.0</td>\n",
       "      <td>2.9</td>\n",
       "      <td>NaN</td>\n",
       "      <td>False</td>\n",
       "      <td>live</td>\n",
       "    </tr>\n",
       "    <tr>\n",
       "      <th>148</th>\n",
       "      <td>20</td>\n",
       "      <td>female</td>\n",
       "      <td>False</td>\n",
       "      <td>False</td>\n",
       "      <td>False</td>\n",
       "      <td>False</td>\n",
       "      <td>False</td>\n",
       "      <td>True</td>\n",
       "      <td>NaN</td>\n",
       "      <td>False</td>\n",
       "      <td>False</td>\n",
       "      <td>False</td>\n",
       "      <td>False</td>\n",
       "      <td>0.9</td>\n",
       "      <td>89.0</td>\n",
       "      <td>152.0</td>\n",
       "      <td>4.0</td>\n",
       "      <td>NaN</td>\n",
       "      <td>True</td>\n",
       "      <td>live</td>\n",
       "    </tr>\n",
       "  </tbody>\n",
       "</table>\n",
       "</div>"
      ],
      "text/plain": [
       "     age     sex steroid  antivirals fatigue malaise anorexia liver_big  \\\n",
       "3     31  female     NaN        True   False   False    False      True   \n",
       "83    67    male   False       False    True    True    False      True   \n",
       "148   20  female   False       False   False   False    False      True   \n",
       "\n",
       "    liver_firm spleen_palpable spiders ascites varices  bilirubin  \\\n",
       "3        False           False   False   False   False        0.7   \n",
       "83       False             NaN     NaN     NaN     NaN        1.5   \n",
       "148        NaN           False   False   False   False        0.9   \n",
       "\n",
       "     alk_phosphate   sgot  albumin  protime  histology class  \n",
       "3             46.0   52.0      4.0     80.0      False  live  \n",
       "83           179.0   69.0      2.9      NaN      False  live  \n",
       "148           89.0  152.0      4.0      NaN       True  live  "
      ]
     },
     "execution_count": 66,
     "metadata": {},
     "output_type": "execute_result"
    }
   ],
   "source": [
    "df[df.select_dtypes(include=np.object).isna().sum(axis=1) > 0]"
   ]
  },
  {
   "cell_type": "markdown",
   "metadata": {
    "id": "KHmfGovRAEaQ"
   },
   "source": [
    "### Normalización de los datos"
   ]
  },
  {
   "cell_type": "markdown",
   "metadata": {
    "id": "edDdT7JbAYyB"
   },
   "source": [
    "La normalización de datos implica ajustar los valores medidos en diferentes escalas a una escala común. Cuando se trata de dataframes, la normalización de datos permite ajustar valores referidos a diferentes columnas a una escala común. Esta operación es muy recomendable cuando las columnas de un dataframes se van a usar como features de entrada de un algoritmo de aprendizaje automático, ya que impide que el algoritmo le asigne mayores pesos a las features de mayor escala. "
   ]
  },
  {
   "cell_type": "markdown",
   "metadata": {
    "id": "vu9sNMVlA-Sd"
   },
   "source": [
    "La normalización se aplica solo a las columnas que contienen valores numéricos. Existen cinco métodos de normalización:\n",
    "\n",
    "* single feature scaling\n",
    "* min max\n",
    "* z score\n",
    "* escala logaritmica\n",
    "* clipping"
   ]
  },
  {
   "cell_type": "markdown",
   "metadata": {
    "id": "j3nUfr_PBaJm"
   },
   "source": [
    "En el resto del práctico, aplicamos cada método a una sola columna. Sin embargo, si vas a utilizar cada columna del conjunto de datos como features de entrada de un algoritmo de aprendizaje automático, ***tenés que aplicar el mismo método de normalización a todas las columnas***."
   ]
  },
  {
   "cell_type": "markdown",
   "metadata": {
    "id": "9tiPktE2BvW1"
   },
   "source": [
    "En esta sección vamos a usar el dataset provisto por la Protezione Civile Italiana relacionado a los casos de COVID-19 registrados desde el inicio de la pandemia. Este dataset se actualiza diariamente y ell siguiente código se encarga de descargarlo."
   ]
  },
  {
   "cell_type": "code",
   "execution_count": null,
   "metadata": {
    "id": "11RihoxkB8uz"
   },
   "outputs": [],
   "source": [
    "df_italia = pd.read_csv('https://raw.githubusercontent.com/pcm-dpc/COVID-19/master/dati-regioni/dpc-covid19-ita-regioni.csv')\n",
    "df_italia.head(10)"
   ]
  },
  {
   "cell_type": "markdown",
   "metadata": {
    "id": "UaWEcx3OCpH3"
   },
   "source": [
    "A continuación elimine todas las columnas que contengan valores faltantes."
   ]
  },
  {
   "cell_type": "code",
   "execution_count": null,
   "metadata": {
    "id": "TznMLQfqCvBx"
   },
   "outputs": [],
   "source": [
    "#inserte su código aquí"
   ]
  },
  {
   "cell_type": "markdown",
   "metadata": {
    "id": "iCge39apCvb2"
   },
   "source": [
    "#### Single Feature Scaling\n"
   ]
  },
  {
   "cell_type": "markdown",
   "metadata": {
    "id": "TTUR6ZeODHBB"
   },
   "source": [
    "Este método convierte cada valor de una columna en un número entre 0 y 1. El nuevo valor se calcula como el valor actual dividido por el valor máximo de la columna. Implementelo en la columna `tamponi`"
   ]
  },
  {
   "cell_type": "code",
   "execution_count": null,
   "metadata": {
    "id": "YMzT0M-5DDYT"
   },
   "outputs": [],
   "source": [
    "#inserte su código aquí"
   ]
  },
  {
   "cell_type": "markdown",
   "metadata": {
    "id": "gNJAX1EcDVuj"
   },
   "source": [
    "#### Min Max"
   ]
  },
  {
   "cell_type": "markdown",
   "metadata": {
    "id": "6WoNcxVNDYMC"
   },
   "source": [
    "De manera similar al método anterior, Min Max convierte cada valor de una columna en un número entre 0 y 1. El nuevo valor se calcula como la diferencia entre el valor actual y el valor mínimo, dividido por el rango de los valores de la columna. Implementelo para la columna `totale_casi`"
   ]
  },
  {
   "cell_type": "code",
   "execution_count": null,
   "metadata": {
    "id": "NaV8qtXxDq9r"
   },
   "outputs": [],
   "source": [
    "#inserte su código aquí"
   ]
  },
  {
   "cell_type": "markdown",
   "metadata": {
    "id": "9QEW9QLkESiA"
   },
   "source": [
    "#### Z Score"
   ]
  },
  {
   "cell_type": "markdown",
   "metadata": {
    "id": "IB3LDG4UEUdk"
   },
   "source": [
    "Z-Score convierte cada valor de una columna en un número alrededor de 0. Los valores típicos obtenidos por una transformación de z-score oscilan entre -3 y 3. \n",
    "\n",
    "El nuevo valor se calcula como la diferencia entre el valor actual y el valor promedio, dividido por la desviación estándar. El valor promedio de una columna se puede obtener a través de la función `mean()`, mientras que la desviación estándar a través de la función `std()`. \n",
    "\n",
    "Implementelo para la columna ```deceduti```\n",
    "\n"
   ]
  },
  {
   "cell_type": "code",
   "execution_count": null,
   "metadata": {
    "id": "ZlTPNyA6FdwH"
   },
   "outputs": [],
   "source": [
    "#inserte su código aquí"
   ]
  },
  {
   "cell_type": "markdown",
   "metadata": {
    "id": "oPNYy8sNdcFD"
   },
   "source": [
    "La siguiente función dibuja un gráfico de caja con los datos que recibe para poder observar su distribución. Utilicela pasando la versión normalizada de la columna `deceduti` del dataset como parámetro."
   ]
  },
  {
   "cell_type": "code",
   "execution_count": null,
   "metadata": {
    "id": "Kdpn9FTmFty2"
   },
   "outputs": [],
   "source": [
    "def boxplot(data):\n",
    "  fig = plt.figure(figsize =(5, 5)) \n",
    "  plt.boxplot(data)\n",
    "  plt.show()\n",
    "\n",
    "#inserte su código aquí\n"
   ]
  },
  {
   "cell_type": "markdown",
   "metadata": {
    "id": "zyeamlS0IJot"
   },
   "source": [
    "En el gráfico de caja anterior se puede observar que a partir de cierto valor de Z los valores son outliers o valores anómalos."
   ]
  },
  {
   "cell_type": "markdown",
   "metadata": {
    "id": "kdXbrAHhh7dx"
   },
   "source": [
    "La siguiente función también realiza un gráfico de caja, pero antes filtra todos los valores outliers en base a un parámetro threshold. Llame a la función pasando la versión normalizada de la columna `deceduti` del dataset como parámetro `data`. Además elija un valor para el parámetro `threshold` de manera de eliminar todos los outliers del dataset. "
   ]
  },
  {
   "cell_type": "code",
   "execution_count": null,
   "metadata": {
    "id": "zxRCcFa_GXfa"
   },
   "outputs": [],
   "source": [
    "def boxplot_sin_outliers(data,threshold):\n",
    "  outliers = np.where((data - threshold > 0), True, np.where(data + threshold < 0, True, False))\n",
    "  data_sin_outliers = data[~outliers]\n",
    "  fig = plt.figure(figsize =(10, 7)) \n",
    "  plt.boxplot(data_sin_outliers )\n",
    "  plt.show()\n",
    "\n",
    "#inserte su código aquí\n"
   ]
  },
  {
   "cell_type": "markdown",
   "metadata": {
    "id": "G89y5PDLIWFO"
   },
   "source": [
    "#### Escala logarítmica"
   ]
  },
  {
   "cell_type": "markdown",
   "metadata": {
    "id": "efNgOPJ2EmEi"
   },
   "source": [
    "Acá básicamente aplicamos la función `log()` a toda la columna. Implemente esta normalización para la columna `dimessi_guariti` Hay que tener cuidado porque el logaritmo de 0 está indeterminado. Les recomendamos utilizar [funciones lambda](https://www.kite.com/python/answers/how-to-use-an-if-statement-in-a-lambda-function-in-python) para sortear esta restricción."
   ]
  },
  {
   "cell_type": "code",
   "execution_count": null,
   "metadata": {
    "id": "r3HGjsQLiTHt"
   },
   "outputs": [],
   "source": [
    "#inserte su código aquí"
   ]
  },
  {
   "cell_type": "markdown",
   "metadata": {
    "id": "yLllDvgOl_yg"
   },
   "source": [
    "## Parte 2: Manipulación de Datos\n"
   ]
  },
  {
   "cell_type": "markdown",
   "metadata": {
    "id": "-y1Uxgh2mKZC"
   },
   "source": [
    "Repasá lo visto en la clase 2 sobre manipulación de tensores e intentá resolver los siguientes ejercicios."
   ]
  },
  {
   "cell_type": "markdown",
   "metadata": {
    "id": "igHDlbWlmdYs"
   },
   "source": [
    "Primero generemos un tensor de 28x28 llenado con el valor 0.25 en todas sus celdas. Luego generemos un segundo tensor de 28x28 con el valor 0.5 y otro con el valor 0.75"
   ]
  },
  {
   "cell_type": "code",
   "execution_count": null,
   "metadata": {
    "id": "_ihr6267nT6U"
   },
   "outputs": [],
   "source": [
    "#inserte su código aquí"
   ]
  },
  {
   "cell_type": "markdown",
   "metadata": {
    "id": "4Q_tNCuanv8W"
   },
   "source": [
    "Ahora concatene los 3 tensores en uno solo de dimensión 3X28X28"
   ]
  },
  {
   "cell_type": "code",
   "execution_count": null,
   "metadata": {
    "id": "Ls0zAT93n5Ke"
   },
   "outputs": [],
   "source": [
    "#inserte su código aquí"
   ]
  },
  {
   "cell_type": "markdown",
   "metadata": {
    "id": "3VajCGlzn46x"
   },
   "source": [
    "Transformar el tensor anterior para que tenga 6 canales en lugar de 3. Organice las filas y columnas a su gusto."
   ]
  },
  {
   "cell_type": "code",
   "execution_count": null,
   "metadata": {
    "id": "N9mom4B6pZmM"
   },
   "outputs": [],
   "source": [
    "#inserte su código aquí"
   ]
  },
  {
   "cell_type": "markdown",
   "metadata": {
    "id": "CVJP3VvCp6Yy"
   },
   "source": [
    "Devolver el valor de la suma de cada canal por separado. (Recordemos que en los vectores tridimensionales la forma es (canales, filas, columnas)"
   ]
  },
  {
   "cell_type": "code",
   "execution_count": null,
   "metadata": {
    "id": "lvMLOXZQp-eb"
   },
   "outputs": [],
   "source": [
    "#inserte su código aquí"
   ]
  },
  {
   "cell_type": "markdown",
   "metadata": {
    "id": "dOb_Fu-9q3JP"
   },
   "source": [
    "Llenar la primera fila de cada canal con ceros y llenar el quinto canal con unos. Volver a generar las sumas para cada canal."
   ]
  },
  {
   "cell_type": "code",
   "execution_count": null,
   "metadata": {
    "id": "OZ4gx1F7r4il"
   },
   "outputs": [],
   "source": [
    "#inserte su código aquí"
   ]
  },
  {
   "cell_type": "markdown",
   "metadata": {
    "id": "lYEOm_cpsZTk"
   },
   "source": [
    "Generar otro tensor con la misma forma que el anteriores, pero lleno de valores aleatorios."
   ]
  },
  {
   "cell_type": "code",
   "execution_count": null,
   "metadata": {
    "id": "U9x21z72sYyR"
   },
   "outputs": [],
   "source": [
    "#inserte su código aquí"
   ]
  },
  {
   "cell_type": "markdown",
   "metadata": {
    "id": "BCFEEKPHsqQn"
   },
   "source": [
    "Concatenar ambos tensores tridimensionales en un tensor de cuatro dimensiones. "
   ]
  },
  {
   "cell_type": "code",
   "execution_count": null,
   "metadata": {
    "id": "VtrQYE85sOdX"
   },
   "outputs": [],
   "source": [
    "#inserte su código aquí"
   ]
  },
  {
   "cell_type": "markdown",
   "metadata": {
    "id": "xZU9ML6_t65z"
   },
   "source": [
    "Generar un tercer tensor tridimensional que sea la resta de los otros dos y concatenarlo al tensor de cuatro dimensiones."
   ]
  },
  {
   "cell_type": "code",
   "execution_count": null,
   "metadata": {
    "id": "DjkSagDet6YN"
   },
   "outputs": [],
   "source": [
    "#inserte su código aquí"
   ]
  }
 ],
 "metadata": {
  "colab": {
   "name": "TP1ParaAlumnos",
   "provenance": []
  },
  "kernelspec": {
   "display_name": "Python 3",
   "language": "python",
   "name": "python3"
  },
  "language_info": {
   "codemirror_mode": {
    "name": "ipython",
    "version": 3
   },
   "file_extension": ".py",
   "mimetype": "text/x-python",
   "name": "python",
   "nbconvert_exporter": "python",
   "pygments_lexer": "ipython3",
   "version": "3.8.3"
  }
 },
 "nbformat": 4,
 "nbformat_minor": 1
}
