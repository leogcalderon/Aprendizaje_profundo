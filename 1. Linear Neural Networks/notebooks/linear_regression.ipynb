{
 "cells": [
  {
   "cell_type": "markdown",
   "metadata": {},
   "source": [
    "# 1. Linear Regression Implementation from Scratch"
   ]
  },
  {
   "cell_type": "code",
   "execution_count": 6,
   "metadata": {},
   "outputs": [],
   "source": [
    "import torch\n",
    "import random"
   ]
  },
  {
   "cell_type": "markdown",
   "metadata": {},
   "source": [
    "## 1.1 Generating the dataset\n",
    "\n",
    "The true parameters generating our dataset will be $w=[2,−3.4]^{T}$ and $b=4.2$, and our synthetic labels will be assigned according to the following linear model with the noise term ϵ."
   ]
  },
  {
   "cell_type": "code",
   "execution_count": 9,
   "metadata": {},
   "outputs": [
    {
     "name": "stdout",
     "output_type": "stream",
     "text": [
      "Example\n",
      "Features: tensor([-0.0711, -0.2810])\n",
      "Label: tensor([5.0064])\n"
     ]
    }
   ],
   "source": [
    "def synthetic_data(w, b, num_examples):\n",
    "    # Random X\n",
    "    X = torch.normal(0, 1, (num_examples, len(w)))\n",
    "    # Calculate Y\n",
    "    y = torch.matmul(X, w) + b\n",
    "    # Add noise\n",
    "    y += torch.normal(0, 0.01, y.shape)\n",
    "    return X, y.reshape((-1, 1))\n",
    "\n",
    "true_w = torch.tensor([2, -3.4])\n",
    "true_b = 4.2\n",
    "features, labels = synthetic_data(true_w, true_b, 1000)\n",
    "\n",
    "print(f'Example\\nFeatures: {features[0]}\\nLabel: {labels[0]}')"
   ]
  },
  {
   "cell_type": "markdown",
   "metadata": {},
   "source": [
    "## 1.2 Reading the dataset"
   ]
  },
  {
   "cell_type": "code",
   "execution_count": 12,
   "metadata": {},
   "outputs": [],
   "source": [
    "def data_iter(batch_size, features, labels):\n",
    "    n = len(features)\n",
    "    indices = list(range(n))\n",
    "    random.shuffle(indices)\n",
    "    for i in range(0, n, batch_size):\n",
    "        batch_indices = torch.tensor(\n",
    "            indices[i: min(i + batch_size, n)])\n",
    "        yield features[batch_indices], labels[batch_indices]"
   ]
  },
  {
   "cell_type": "code",
   "execution_count": 15,
   "metadata": {},
   "outputs": [
    {
     "name": "stdout",
     "output_type": "stream",
     "text": [
      "Features:\n",
      " tensor([[-0.0085,  0.3169],\n",
      "        [-1.6964,  0.0908],\n",
      "        [-0.2581, -0.4166],\n",
      "        [-1.6626,  0.5857],\n",
      "        [ 1.4238, -0.5132],\n",
      "        [ 0.0392, -0.1529],\n",
      "        [ 2.0490,  1.1481],\n",
      "        [-0.3911,  0.2906],\n",
      "        [ 0.4990,  0.3073],\n",
      "        [-0.4907,  0.5500]]) \n",
      "Labels\n",
      " tensor([[ 3.0961],\n",
      "        [ 0.5078],\n",
      "        [ 5.0956],\n",
      "        [-1.1262],\n",
      "        [ 8.7920],\n",
      "        [ 4.8160],\n",
      "        [ 4.3897],\n",
      "        [ 2.4474],\n",
      "        [ 4.1545],\n",
      "        [ 1.3687]])\n"
     ]
    }
   ],
   "source": [
    "batch_size = 10\n",
    "\n",
    "for X, y in data_iter(batch_size, features, labels):\n",
    "    print('Features:\\n', X, '\\nLabels\\n', y)\n",
    "    break"
   ]
  },
  {
   "cell_type": "markdown",
   "metadata": {},
   "source": [
    "## 1.3 Initializing model parameters"
   ]
  },
  {
   "cell_type": "code",
   "execution_count": 68,
   "metadata": {},
   "outputs": [],
   "source": [
    "w = torch.normal(0, 0.01, size=(2,1), requires_grad=True)\n",
    "b = torch.zeros(1, requires_grad=True)"
   ]
  },
  {
   "cell_type": "markdown",
   "metadata": {},
   "source": [
    "## 1.4 Defining the model"
   ]
  },
  {
   "cell_type": "code",
   "execution_count": 17,
   "metadata": {},
   "outputs": [],
   "source": [
    "def linreg(X, w, b):\n",
    "    return torch.matmul(X, w) + b"
   ]
  },
  {
   "cell_type": "markdown",
   "metadata": {},
   "source": [
    "## 1.5 Defining the Loss Function"
   ]
  },
  {
   "cell_type": "code",
   "execution_count": 18,
   "metadata": {},
   "outputs": [],
   "source": [
    "def squared_loss(y_hat, y):\n",
    "    return (y_hat - y.reshape(y_hat.shape))**2 / 2"
   ]
  },
  {
   "cell_type": "markdown",
   "metadata": {},
   "source": [
    "## 1.6 Defining the Optimization Algorithm \n",
    "\n",
    "Because our loss is calculated as a sum over the minibatch of examples, we normalize our step size by the batch size (batch_size), so that the magnitude of a typical step size does not depend heavily on our choice of the batch size.\n",
    "\n",
    "    torch.no_grad(): context manager that disabled gradient calculation (temporarily sets all of the requires_grad flags to False)\n",
    "    \n",
    "    torch.Tensor.grad: This attribute is None by default and becomes a Tensor the first time a call to backward() computes gradients for self. The attribute will then contain the gradients computed and future calls to backward() will accumulate (add) gradients into it."
   ]
  },
  {
   "cell_type": "code",
   "execution_count": 66,
   "metadata": {},
   "outputs": [],
   "source": [
    "def sgd(params, lr, batch_size):\n",
    "    with torch.no_grad():\n",
    "        for param in params:\n",
    "            param -= lr * param.grad / batch_size\n",
    "            param.grad.zero_()"
   ]
  },
  {
   "cell_type": "markdown",
   "metadata": {},
   "source": [
    "## 1.7 Training"
   ]
  },
  {
   "cell_type": "code",
   "execution_count": 69,
   "metadata": {},
   "outputs": [
    {
     "name": "stdout",
     "output_type": "stream",
     "text": [
      "epoch 1, loss 0.034556\n",
      "epoch 2, loss 0.000113\n",
      "epoch 3, loss 0.000047\n"
     ]
    }
   ],
   "source": [
    "lr = 0.03\n",
    "epochs = 3\n",
    "\n",
    "for epoch in range(epochs):\n",
    "    for X, y in data_iter(batch_size, features, labels):\n",
    "        l = squared_loss(linreg(X, w, b), y)\n",
    "        l.sum().backward()\n",
    "        sgd([w, b], lr, batch_size)\n",
    "    with torch.no_grad():\n",
    "        train_l = squared_loss(linreg(features, w, b), labels)\n",
    "        print(f'epoch {epoch + 1}, loss {float(train_l.mean()):f}')"
   ]
  }
 ],
 "metadata": {
  "kernelspec": {
   "display_name": "Python 3",
   "language": "python",
   "name": "python3"
  },
  "language_info": {
   "codemirror_mode": {
    "name": "ipython",
    "version": 3
   },
   "file_extension": ".py",
   "mimetype": "text/x-python",
   "name": "python",
   "nbconvert_exporter": "python",
   "pygments_lexer": "ipython3",
   "version": "3.8.3"
  }
 },
 "nbformat": 4,
 "nbformat_minor": 2
}
